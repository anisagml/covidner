{
 "cells": [
  {
   "cell_type": "markdown",
   "metadata": {},
   "source": [
    "## Analisis Data dengan NER"
   ]
  },
  {
   "cell_type": "code",
   "execution_count": 1,
   "metadata": {},
   "outputs": [],
   "source": [
    "import os\n",
    "import pandas as pd\n",
    "import numpy as np\n",
    "import matplotlib as plt\n",
    "import seaborn as sns"
   ]
  },
  {
   "cell_type": "code",
   "execution_count": 2,
   "metadata": {},
   "outputs": [],
   "source": [
    "os.chdir('C:/Users/Anisa Gemelia/Documents/Dokumen Kuliah/Praktikkum Kuliah/PraktikumEP')"
   ]
  },
  {
   "cell_type": "code",
   "execution_count": 3,
   "metadata": {
    "scrolled": true
   },
   "outputs": [
    {
     "data": {
      "text/html": [
       "<div>\n",
       "<style scoped>\n",
       "    .dataframe tbody tr th:only-of-type {\n",
       "        vertical-align: middle;\n",
       "    }\n",
       "\n",
       "    .dataframe tbody tr th {\n",
       "        vertical-align: top;\n",
       "    }\n",
       "\n",
       "    .dataframe thead th {\n",
       "        text-align: right;\n",
       "    }\n",
       "</style>\n",
       "<table border=\"1\" class=\"dataframe\">\n",
       "  <thead>\n",
       "    <tr style=\"text-align: right;\">\n",
       "      <th></th>\n",
       "      <th>user_id</th>\n",
       "      <th>name</th>\n",
       "      <th>user</th>\n",
       "      <th>location</th>\n",
       "      <th>id</th>\n",
       "      <th>text</th>\n",
       "      <th>date</th>\n",
       "    </tr>\n",
       "  </thead>\n",
       "  <tbody>\n",
       "    <tr>\n",
       "      <td>0</td>\n",
       "      <td>1339408363055054853</td>\n",
       "      <td>Sekolah Official</td>\n",
       "      <td>OfficialSekolah</td>\n",
       "      <td>NaN</td>\n",
       "      <td>1380465126600400897</td>\n",
       "      <td>Akibat dari semakin berkembangnya teknologi sa...</td>\n",
       "      <td>2021-04-09 10:18:28</td>\n",
       "    </tr>\n",
       "    <tr>\n",
       "      <td>1</td>\n",
       "      <td>87901624</td>\n",
       "      <td>JakTvOfficial</td>\n",
       "      <td>JaktvCom</td>\n",
       "      <td>Jakarta, Indonesia</td>\n",
       "      <td>1380463964035837960</td>\n",
       "      <td>Sobat Jak, semoga kita semua bisa segera menda...</td>\n",
       "      <td>2021-04-09 10:13:51</td>\n",
       "    </tr>\n",
       "    <tr>\n",
       "      <td>2</td>\n",
       "      <td>3231776798</td>\n",
       "      <td>Berita Covid</td>\n",
       "      <td>beritacovid</td>\n",
       "      <td>NaN</td>\n",
       "      <td>1380427372189646848</td>\n",
       "      <td>#Cerita Pejuang Tes COVID Sulitnya Cari PCR Mu...</td>\n",
       "      <td>2021-04-09 07:48:27</td>\n",
       "    </tr>\n",
       "    <tr>\n",
       "      <td>3</td>\n",
       "      <td>1339408363055054853</td>\n",
       "      <td>Sekolah Official</td>\n",
       "      <td>OfficialSekolah</td>\n",
       "      <td>NaN</td>\n",
       "      <td>1380425822918438912</td>\n",
       "      <td>Kita sebagai guru harus bisa mengetahui karakt...</td>\n",
       "      <td>2021-04-09 07:42:17</td>\n",
       "    </tr>\n",
       "    <tr>\n",
       "      <td>4</td>\n",
       "      <td>1366400664960573441</td>\n",
       "      <td>holopiscom</td>\n",
       "      <td>holopiscom</td>\n",
       "      <td>Jakarta Capital Region, Indone</td>\n",
       "      <td>1380411002286534669</td>\n",
       "      <td>Waspada Virus Covid 19 Kembali Bermutasi, Kali...</td>\n",
       "      <td>2021-04-09 06:43:24</td>\n",
       "    </tr>\n",
       "    <tr>\n",
       "      <td>...</td>\n",
       "      <td>...</td>\n",
       "      <td>...</td>\n",
       "      <td>...</td>\n",
       "      <td>...</td>\n",
       "      <td>...</td>\n",
       "      <td>...</td>\n",
       "      <td>...</td>\n",
       "    </tr>\n",
       "    <tr>\n",
       "      <td>212</td>\n",
       "      <td>712276389286686721</td>\n",
       "      <td>Rakyat Merdeka</td>\n",
       "      <td>RakyatMerdeka99</td>\n",
       "      <td>Graha Pena, Kebayoran Lama 12</td>\n",
       "      <td>1377829175684292611</td>\n",
       "      <td>Manut Aturan Pusat, Gibran Larang ASN Solo Mud...</td>\n",
       "      <td>2021-04-02 03:44:08</td>\n",
       "    </tr>\n",
       "    <tr>\n",
       "      <td>213</td>\n",
       "      <td>712276389286686721</td>\n",
       "      <td>Rakyat Merdeka</td>\n",
       "      <td>RakyatMerdeka99</td>\n",
       "      <td>Graha Pena, Kebayoran Lama 12</td>\n",
       "      <td>1377828730219851779</td>\n",
       "      <td>5 Ribu Pegawai KAI Ikuti Program Vaksinasi Ber...</td>\n",
       "      <td>2021-04-02 03:42:22</td>\n",
       "    </tr>\n",
       "    <tr>\n",
       "      <td>214</td>\n",
       "      <td>750551587</td>\n",
       "      <td>educratsweb</td>\n",
       "      <td>educratsweb</td>\n",
       "      <td>india</td>\n",
       "      <td>1377824329509965828</td>\n",
       "      <td>#Surge in Delhi Covid cases due to... CM Arvin...</td>\n",
       "      <td>2021-04-02 03:24:53</td>\n",
       "    </tr>\n",
       "    <tr>\n",
       "      <td>215</td>\n",
       "      <td>944180887171743745</td>\n",
       "      <td>iNews.id</td>\n",
       "      <td>inewsdotid</td>\n",
       "      <td>Jakarta, Indonesia</td>\n",
       "      <td>1377806065723600903</td>\n",
       "      <td>Proses belajar tatap muka rencananya akan kemb...</td>\n",
       "      <td>2021-04-02 02:12:19</td>\n",
       "    </tr>\n",
       "    <tr>\n",
       "      <td>216</td>\n",
       "      <td>712276389286686721</td>\n",
       "      <td>Rakyat Merdeka</td>\n",
       "      <td>RakyatMerdeka99</td>\n",
       "      <td>Graha Pena, Kebayoran Lama 12</td>\n",
       "      <td>1377783031159656452</td>\n",
       "      <td>Menkes Ramal Bisnis Obat-obatan Bakal Makin Mo...</td>\n",
       "      <td>2021-04-02 00:40:47</td>\n",
       "    </tr>\n",
       "  </tbody>\n",
       "</table>\n",
       "<p>217 rows × 7 columns</p>\n",
       "</div>"
      ],
      "text/plain": [
       "                 user_id              name             user  \\\n",
       "0    1339408363055054853  Sekolah Official  OfficialSekolah   \n",
       "1               87901624     JakTvOfficial         JaktvCom   \n",
       "2             3231776798      Berita Covid      beritacovid   \n",
       "3    1339408363055054853  Sekolah Official  OfficialSekolah   \n",
       "4    1366400664960573441        holopiscom       holopiscom   \n",
       "..                   ...               ...              ...   \n",
       "212   712276389286686721    Rakyat Merdeka  RakyatMerdeka99   \n",
       "213   712276389286686721    Rakyat Merdeka  RakyatMerdeka99   \n",
       "214            750551587       educratsweb      educratsweb   \n",
       "215   944180887171743745          iNews.id       inewsdotid   \n",
       "216   712276389286686721    Rakyat Merdeka  RakyatMerdeka99   \n",
       "\n",
       "                           location                   id  \\\n",
       "0                               NaN  1380465126600400897   \n",
       "1                Jakarta, Indonesia  1380463964035837960   \n",
       "2                               NaN  1380427372189646848   \n",
       "3                               NaN  1380425822918438912   \n",
       "4    Jakarta Capital Region, Indone  1380411002286534669   \n",
       "..                              ...                  ...   \n",
       "212   Graha Pena, Kebayoran Lama 12  1377829175684292611   \n",
       "213   Graha Pena, Kebayoran Lama 12  1377828730219851779   \n",
       "214                           india  1377824329509965828   \n",
       "215              Jakarta, Indonesia  1377806065723600903   \n",
       "216   Graha Pena, Kebayoran Lama 12  1377783031159656452   \n",
       "\n",
       "                                                  text                 date  \n",
       "0    Akibat dari semakin berkembangnya teknologi sa...  2021-04-09 10:18:28  \n",
       "1    Sobat Jak, semoga kita semua bisa segera menda...  2021-04-09 10:13:51  \n",
       "2    #Cerita Pejuang Tes COVID Sulitnya Cari PCR Mu...  2021-04-09 07:48:27  \n",
       "3    Kita sebagai guru harus bisa mengetahui karakt...  2021-04-09 07:42:17  \n",
       "4    Waspada Virus Covid 19 Kembali Bermutasi, Kali...  2021-04-09 06:43:24  \n",
       "..                                                 ...                  ...  \n",
       "212  Manut Aturan Pusat, Gibran Larang ASN Solo Mud...  2021-04-02 03:44:08  \n",
       "213  5 Ribu Pegawai KAI Ikuti Program Vaksinasi Ber...  2021-04-02 03:42:22  \n",
       "214  #Surge in Delhi Covid cases due to... CM Arvin...  2021-04-02 03:24:53  \n",
       "215  Proses belajar tatap muka rencananya akan kemb...  2021-04-02 02:12:19  \n",
       "216  Menkes Ramal Bisnis Obat-obatan Bakal Makin Mo...  2021-04-02 00:40:47  \n",
       "\n",
       "[217 rows x 7 columns]"
      ]
     },
     "execution_count": 3,
     "metadata": {},
     "output_type": "execute_result"
    }
   ],
   "source": [
    "data = pd.read_csv('output_merge.csv', header=0)\n",
    "data = data.drop(['Unnamed: 0', '_merge'], axis = 1)\n",
    "data"
   ]
  },
  {
   "cell_type": "markdown",
   "metadata": {},
   "source": [
    "### EDA"
   ]
  },
  {
   "cell_type": "code",
   "execution_count": 4,
   "metadata": {},
   "outputs": [
    {
     "name": "stdout",
     "output_type": "stream",
     "text": [
      "<class 'pandas.core.frame.DataFrame'>\n",
      "RangeIndex: 217 entries, 0 to 216\n",
      "Data columns (total 7 columns):\n",
      "user_id     217 non-null int64\n",
      "name        217 non-null object\n",
      "user        217 non-null object\n",
      "location    146 non-null object\n",
      "id          217 non-null int64\n",
      "text        217 non-null object\n",
      "date        217 non-null object\n",
      "dtypes: int64(2), object(5)\n",
      "memory usage: 12.0+ KB\n"
     ]
    }
   ],
   "source": [
    "data.info()"
   ]
  },
  {
   "cell_type": "code",
   "execution_count": 5,
   "metadata": {
    "scrolled": true
   },
   "outputs": [
    {
     "data": {
      "text/html": [
       "<div>\n",
       "<style scoped>\n",
       "    .dataframe tbody tr th:only-of-type {\n",
       "        vertical-align: middle;\n",
       "    }\n",
       "\n",
       "    .dataframe tbody tr th {\n",
       "        vertical-align: top;\n",
       "    }\n",
       "\n",
       "    .dataframe thead th {\n",
       "        text-align: right;\n",
       "    }\n",
       "</style>\n",
       "<table border=\"1\" class=\"dataframe\">\n",
       "  <thead>\n",
       "    <tr style=\"text-align: right;\">\n",
       "      <th></th>\n",
       "      <th>user_id</th>\n",
       "      <th>id</th>\n",
       "    </tr>\n",
       "  </thead>\n",
       "  <tbody>\n",
       "    <tr>\n",
       "      <td>count</td>\n",
       "      <td>2.170000e+02</td>\n",
       "      <td>2.170000e+02</td>\n",
       "    </tr>\n",
       "    <tr>\n",
       "      <td>mean</td>\n",
       "      <td>4.522558e+17</td>\n",
       "      <td>1.379283e+18</td>\n",
       "    </tr>\n",
       "    <tr>\n",
       "      <td>std</td>\n",
       "      <td>4.846583e+17</td>\n",
       "      <td>8.138976e+14</td>\n",
       "    </tr>\n",
       "    <tr>\n",
       "      <td>min</td>\n",
       "      <td>4.385674e+07</td>\n",
       "      <td>1.377599e+18</td>\n",
       "    </tr>\n",
       "    <tr>\n",
       "      <td>25%</td>\n",
       "      <td>3.231777e+09</td>\n",
       "      <td>1.378591e+18</td>\n",
       "    </tr>\n",
       "    <tr>\n",
       "      <td>50%</td>\n",
       "      <td>7.122764e+17</td>\n",
       "      <td>1.379340e+18</td>\n",
       "    </tr>\n",
       "    <tr>\n",
       "      <td>75%</td>\n",
       "      <td>7.122764e+17</td>\n",
       "      <td>1.379997e+18</td>\n",
       "    </tr>\n",
       "    <tr>\n",
       "      <td>max</td>\n",
       "      <td>1.378446e+18</td>\n",
       "      <td>1.380465e+18</td>\n",
       "    </tr>\n",
       "  </tbody>\n",
       "</table>\n",
       "</div>"
      ],
      "text/plain": [
       "            user_id            id\n",
       "count  2.170000e+02  2.170000e+02\n",
       "mean   4.522558e+17  1.379283e+18\n",
       "std    4.846583e+17  8.138976e+14\n",
       "min    4.385674e+07  1.377599e+18\n",
       "25%    3.231777e+09  1.378591e+18\n",
       "50%    7.122764e+17  1.379340e+18\n",
       "75%    7.122764e+17  1.379997e+18\n",
       "max    1.378446e+18  1.380465e+18"
      ]
     },
     "execution_count": 5,
     "metadata": {},
     "output_type": "execute_result"
    }
   ],
   "source": [
    "data.describe()"
   ]
  },
  {
   "cell_type": "code",
   "execution_count": 6,
   "metadata": {},
   "outputs": [
    {
     "name": "stdout",
     "output_type": "stream",
     "text": [
      "Index(['user_id', 'name', 'user', 'location', 'id', 'text', 'date'], dtype='object') (217, 7)\n"
     ]
    }
   ],
   "source": [
    "print(data.columns, data.shape)"
   ]
  },
  {
   "cell_type": "code",
   "execution_count": 7,
   "metadata": {
    "scrolled": true
   },
   "outputs": [
    {
     "name": "stdout",
     "output_type": "stream",
     "text": [
      "Lhokseumawe dan Pidie Jaya Masuk Zona Kuning Covid-19\n",
      " #Covid-19 #petazonasi #...\n",
      "https://t.co/QZAYhy2Cbs\n"
     ]
    }
   ],
   "source": [
    "print(data.loc[101]['text'])"
   ]
  },
  {
   "cell_type": "markdown",
   "metadata": {},
   "source": [
    "### Pre-Process Data"
   ]
  },
  {
   "cell_type": "code",
   "execution_count": 8,
   "metadata": {},
   "outputs": [],
   "source": [
    "data_clean = data"
   ]
  },
  {
   "cell_type": "code",
   "execution_count": 9,
   "metadata": {},
   "outputs": [],
   "source": [
    "data_clean['text']=data_clean['text'].apply(str)"
   ]
  },
  {
   "cell_type": "code",
   "execution_count": 10,
   "metadata": {
    "scrolled": true
   },
   "outputs": [
    {
     "name": "stdout",
     "output_type": "stream",
     "text": [
      "<class 'pandas.core.frame.DataFrame'>\n",
      "RangeIndex: 217 entries, 0 to 216\n",
      "Data columns (total 7 columns):\n",
      "user_id     217 non-null int64\n",
      "name        217 non-null object\n",
      "user        217 non-null object\n",
      "location    146 non-null object\n",
      "id          217 non-null int64\n",
      "text        217 non-null object\n",
      "date        217 non-null object\n",
      "dtypes: int64(2), object(5)\n",
      "memory usage: 12.0+ KB\n",
      "None\n"
     ]
    }
   ],
   "source": [
    "print(data_clean.info())"
   ]
  },
  {
   "cell_type": "code",
   "execution_count": 11,
   "metadata": {},
   "outputs": [],
   "source": [
    "#Hapus '\\\\n', 'RT', + Downcase\n",
    "data_clean['tweet_clean'] = data_clean['text'].str.replace('\\\\n', ' ', regex=False)\n",
    "data_clean['tweet_clean'] = data_clean['text'].str.replace('\\n', ' ', regex=False)\n",
    "data_clean['tweet_clean'] = data_clean['tweet_clean'].str.replace('RT', '', regex=False)\n",
    "data_clean['tweet_clean'] = data_clean['tweet_clean'].str.replace('&amp;', 'dan', regex=False)\n",
    "data_clean['tweet_clean'] = data_clean['tweet_clean'].str.replace('19', '', regex=False)\n",
    "data_clean['tweet_clean'] = data_clean['tweet_clean'].str.lower()\n",
    "\n",
    "#Hapus punct sign\n",
    "import string\n",
    "sign_list = list(string.punctuation)\n",
    "for sign in sign_list :\n",
    "    data_clean['tweet_clean'] = data_clean['tweet_clean'].str.replace(sign, ' ',regex=False)\n",
    "\n",
    "#Hapus extra space\n",
    "data_clean['tweet_clean'] = data_clean['tweet_clean'].str.replace('   ', ' ')\n",
    "data_clean['tweet_clean'] = data_clean['tweet_clean'].str.replace('  ', ' ')"
   ]
  },
  {
   "cell_type": "code",
   "execution_count": 155,
   "metadata": {},
   "outputs": [
    {
     "name": "stderr",
     "output_type": "stream",
     "text": [
      "[nltk_data] Downloading package stopwords to C:\\Users\\Anisa\n",
      "[nltk_data]     Gemelia\\AppData\\Roaming\\nltk_data...\n",
      "[nltk_data]   Package stopwords is already up-to-date!\n"
     ]
    }
   ],
   "source": [
    "#Hapus Stopwords\n",
    "import nltk\n",
    "from nltk.corpus import stopwords\n",
    "nltk.download('stopwords')\n",
    "stop_words = list(stopwords.words('indonesian'))\n",
    "for stop_word in stop_words :\n",
    "    regex = r\"\\b\" + stop_word + r\"\\b\"\n",
    "    data_clean['tweet_clean'] = data_clean['tweet_clean'].str.replace(regex, '')"
   ]
  },
  {
   "cell_type": "code",
   "execution_count": 156,
   "metadata": {},
   "outputs": [
    {
     "data": {
      "text/plain": [
       "0      akibat   berkembangnya teknologi   individuali...\n",
       "1      sobat jak semoga      giliran  vaksinasi covid...\n",
       "2       cerita pejuang tes covid sulitnya cari pcr mu...\n",
       "3        guru    karakter  murid     membangun karakt...\n",
       "4      waspada virus covid  bermutasi kali   virus ee...\n",
       "                             ...                        \n",
       "212    manut aturan pusat gibran larang asn solo mudi...\n",
       "213    5 ribu pegawai kai ikuti program vaksinasi  bu...\n",
       "214     surge in delhi covid cases due to cm arvind k...\n",
       "215    proses belajar tatap muka rencananya   diberla...\n",
       "216    menkes ramal bisnis obat obatan   moncer akiba...\n",
       "Name: tweet_clean, Length: 217, dtype: object"
      ]
     },
     "execution_count": 156,
     "metadata": {},
     "output_type": "execute_result"
    }
   ],
   "source": [
    "data_clean['tweet_clean']"
   ]
  },
  {
   "cell_type": "code",
   "execution_count": 157,
   "metadata": {},
   "outputs": [
    {
     "data": {
      "image/png": "[encoded data removed]",
      "text/plain": [
       "<Figure size 432x288 with 1 Axes>"
      ]
     },
     "metadata": {
      "needs_background": "light"
     },
     "output_type": "display_data"
    }
   ],
   "source": [
    "import matplotlib.pyplot as plt\n",
    "type = data_clean[\"user\"]\n",
    "df = pd.DataFrame(type)\n",
    "for col in df:\n",
    "    fig, ax = plt.subplots()\n",
    "    df[col].value_counts().plot.bar(ax=ax)\n",
    "plt.savefig(\"user using #covid\")"
   ]
  },
  {
   "cell_type": "code",
   "execution_count": 158,
   "metadata": {},
   "outputs": [
    {
     "data": {
      "image/png": "[encoded data removed]",
      "text/plain": [
       "<Figure size 432x288 with 1 Axes>"
      ]
     },
     "metadata": {
      "needs_background": "light"
     },
     "output_type": "display_data"
    }
   ],
   "source": [
    "type = data_clean[\"location\"]\n",
    "df = pd.DataFrame(type)\n",
    "for col in df:\n",
    "    fig, ax = plt.subplots()\n",
    "    df[col].value_counts().plot.bar(ax=ax)"
   ]
  },
  {
   "cell_type": "code",
   "execution_count": 159,
   "metadata": {
    "scrolled": true
   },
   "outputs": [
    {
     "data": {
      "text/plain": [
       "RakyatMerdeka99    70\n",
       "beritacovid        57\n",
       "fajaronline         8\n",
       "Hadi_VIP99          8\n",
       "_SehatBersama       7\n",
       "bernamaradio        5\n",
       "kominfokaltim       5\n",
       "bernamadotcom       5\n",
       "OfficialSekolah     4\n",
       "holopiscom          4\n",
       "JaktvCom            3\n",
       "djkasino8           3\n",
       "inewsdotid          3\n",
       "kraksaan_online     2\n",
       "indozonemedia       2\n",
       "News_TVRI           2\n",
       "OutbreakLearn       1\n",
       "theprakarsa         1\n",
       "prokabar            1\n",
       "Genpi_Co            1\n",
       "kitapeduliyatim     1\n",
       "matamilenialID      1\n",
       "ruberUpdate         1\n",
       "windowtonews        1\n",
       "mytipsntrips        1\n",
       "shoeforiastore      1\n",
       "lampungpostid       1\n",
       "infoberita23        1\n",
       "963MedanFM          1\n",
       "deskjabar           1\n",
       "educratsweb         1\n",
       "BPPT_RI             1\n",
       "kadrunsangar        1\n",
       "IndoworkI           1\n",
       "rmolbantencom       1\n",
       "keepstron9          1\n",
       "timescoid           1\n",
       "Smigaindia          1\n",
       "humas_jogja         1\n",
       "cewekbangetid       1\n",
       "PDRMsia             1\n",
       "readers_id          1\n",
       "004nino             1\n",
       "pikiran_rakyat      1\n",
       "univ_syiahkuala     1\n",
       "Name: user, dtype: int64"
      ]
     },
     "execution_count": 159,
     "metadata": {},
     "output_type": "execute_result"
    }
   ],
   "source": [
    "data_clean['user'].value_counts()"
   ]
  },
  {
   "cell_type": "code",
   "execution_count": 160,
   "metadata": {},
   "outputs": [
    {
     "name": "stdout",
     "output_type": "stream",
     "text": [
      "0 akibat berkembangnya teknologi individuali... 1 sobat jak semoga giliran vaksinasi covid... 2 cerita pejuang tes covid sulitnya cari pcr mu... 3 guru karakter murid membangun karakt... 4 waspada virus covid bermutasi kali virus ee... ... 212 manut aturan pusat gibran larang asn solo mudi... 213 5 ribu pegawai kai ikuti program vaksinasi bu... 214 surge in delhi covid cases due to cm arvind k... 215 proses belajar tatap muka rencananya diberla... 216 menkes ramal bisnis obat obatan moncer akiba... Name: tweet_clean, Length: 217, dtype: object\n"
     ]
    }
   ],
   "source": [
    "import re\n",
    "processed_text = re.sub(r'(@|https?)\\S+', '', str(data_clean['tweet_clean']))\n",
    "processed_text = \" \".join(processed_text.split())\n",
    "print(processed_text)"
   ]
  },
  {
   "cell_type": "markdown",
   "metadata": {},
   "source": [
    "### Algoritma NER"
   ]
  },
  {
   "cell_type": "code",
   "execution_count": 17,
   "metadata": {},
   "outputs": [],
   "source": [
    "import pickle\n",
    "import spacy\n",
    "import random\n",
    "from spacy.util import minibatch, compounding\n",
    "from spacy import load, displacy"
   ]
  },
  {
   "cell_type": "code",
   "execution_count": 33,
   "metadata": {},
   "outputs": [],
   "source": [
    "# load datasets \n",
    "\n",
    "with open('ner_spacy_fmt_datasets.pickle', 'rb') as f:\n",
    "    ner_spacy_fmt_datasets = pickle.load(f)"
   ]
  },
  {
   "cell_type": "code",
   "execution_count": 34,
   "metadata": {},
   "outputs": [],
   "source": [
    "nlp=spacy.blank(\"id\")"
   ]
  },
  {
   "cell_type": "code",
   "execution_count": 35,
   "metadata": {},
   "outputs": [],
   "source": [
    "nlp.add_pipe(nlp.create_pipe('ner'))"
   ]
  },
  {
   "cell_type": "code",
   "execution_count": 36,
   "metadata": {},
   "outputs": [
    {
     "data": {
      "text/plain": [
       "<thinc.neural.optimizers.Optimizer at 0x2595f8da408>"
      ]
     },
     "execution_count": 36,
     "metadata": {},
     "output_type": "execute_result"
    }
   ],
   "source": [
    "nlp.begin_training()"
   ]
  },
  {
   "cell_type": "code",
   "execution_count": 22,
   "metadata": {},
   "outputs": [],
   "source": [
    "import random\n",
    "from spacy.util import minibatch, compounding"
   ]
  },
  {
   "cell_type": "code",
   "execution_count": 38,
   "metadata": {},
   "outputs": [],
   "source": [
    "ner=nlp.get_pipe(\"ner\")"
   ]
  },
  {
   "cell_type": "code",
   "execution_count": 40,
   "metadata": {},
   "outputs": [],
   "source": [
    "for _, annotations in ner_spacy_fmt_datasets:\n",
    "    for ent in annotations.get(\"entities\"):\n",
    "        ner.add_label(ent[2])\n",
    "        break"
   ]
  },
  {
   "cell_type": "code",
   "execution_count": 41,
   "metadata": {
    "scrolled": true
   },
   "outputs": [],
   "source": [
    "pipe_exceptions = [\"ner\", \"trf_wordpiecer\", \"trf_tok2vec\"]\n",
    "unaffected_pipes = [pipe for pipe in nlp.pipe_names if pipe not in pipe_exceptions]"
   ]
  },
  {
   "cell_type": "code",
   "execution_count": 43,
   "metadata": {
    "scrolled": true
   },
   "outputs": [
    {
     "name": "stdout",
     "output_type": "stream",
     "text": [
      "Losses at iteration 0 {'ner': 46452.2522604903}\n",
      "Losses at iteration 1 {'ner': 44879.89674696838}\n",
      "Losses at iteration 2 {'ner': 44324.21053980708}\n",
      "Losses at iteration 3 {'ner': 43933.20043266045}\n",
      "Losses at iteration 4 {'ner': 43976.719662253265}\n",
      "Losses at iteration 5 {'ner': 43897.13656332165}\n",
      "Losses at iteration 6 {'ner': 43778.6270529789}\n",
      "Losses at iteration 7 {'ner': 43816.31540535112}\n",
      "Losses at iteration 8 {'ner': 43614.572494188884}\n",
      "Losses at iteration 9 {'ner': 43530.02296193094}\n",
      "Losses at iteration 10 {'ner': 43664.316823002155}\n",
      "Losses at iteration 11 {'ner': 43538.31502723017}\n",
      "Losses at iteration 12 {'ner': 43402.34262743464}\n",
      "Losses at iteration 13 {'ner': 43197.07566837326}\n",
      "Losses at iteration 14 {'ner': 43429.5839668657}\n",
      "Losses at iteration 15 {'ner': 42986.58963338834}\n",
      "Losses at iteration 16 {'ner': 43501.52328784145}\n",
      "Losses at iteration 17 {'ner': 42826.535700298584}\n",
      "Losses at iteration 18 {'ner': 42706.6525879113}\n",
      "Losses at iteration 19 {'ner': 42824.16247483752}\n",
      "Losses at iteration 20 {'ner': 42800.18993422738}\n",
      "Losses at iteration 21 {'ner': 42731.19705360645}\n",
      "Losses at iteration 22 {'ner': 42741.771047060574}\n",
      "Losses at iteration 23 {'ner': 42623.76700276042}\n",
      "Losses at iteration 24 {'ner': 42816.60694711265}\n",
      "Losses at iteration 25 {'ner': 42490.24052386557}\n",
      "Losses at iteration 26 {'ner': 42787.19082125864}\n",
      "Losses at iteration 27 {'ner': 42444.757278653226}\n",
      "Losses at iteration 28 {'ner': 42382.961530287845}\n",
      "Losses at iteration 29 {'ner': 42148.82291332529}\n"
     ]
    }
   ],
   "source": [
    "# TRAINING THE MODEL\n",
    "with nlp.disable_pipes(*unaffected_pipes):\n",
    "\n",
    "  # Training for 30 iterations\n",
    "  for iteration in range(30):\n",
    "\n",
    "    # shuufling examples  before every iteration\n",
    "    random.shuffle(ner_spacy_fmt_datasets)\n",
    "    losses = {}\n",
    "    # batch up the examples using spaCy's minibatch\n",
    "    batches = minibatch(ner_spacy_fmt_datasets, size=compounding(4.0, 32.0, 1.001))\n",
    "    for batch in batches:\n",
    "        texts, annotations = zip(*batch)\n",
    "        nlp.update(\n",
    "                    texts,  # batch of texts\n",
    "                    annotations,  # batch of annotations\n",
    "                    drop=0.5,  # dropout - make it harder to memorise data\n",
    "                    losses=losses,\n",
    "                )\n",
    "    \n",
    "    print(\"Losses at iteration {}\".format(iteration), losses)"
   ]
  },
  {
   "cell_type": "code",
   "execution_count": 96,
   "metadata": {},
   "outputs": [
    {
     "name": "stdout",
     "output_type": "stream",
     "text": [
      "(@KawalCOVID19 Daerah, 12.00WIB 34 Propinsi)\n",
      "Entities [('@KawalCOVID19 Daerah', 'PERSON'), ('12.00WIB 34 Propinsi', 'QUANTITY')]\n"
     ]
    }
   ],
   "source": [
    "# test \n",
    "doc = nlp(\"Salam santun @BNPB_Indonesia @aw3126 @KawalCOVID19 Daerah Sebaran Kasus Positif CoViD-19 Indonesia Per tgl 02 Apr 2021, pukul 12.00WIB 34 Propinsi telah terdampak penyebaran Virus CoViD-19 #coronavirus #covid-19 #coronavirusindonesia #coronaindonesia #wabahcorona #covid19\")\n",
    "print(doc.ents)\n",
    "print(\"Entities\", [(ent.text, ent.label_) for ent in doc.ents])"
   ]
  },
  {
   "cell_type": "code",
   "execution_count": 97,
   "metadata": {},
   "outputs": [
    {
     "name": "stdout",
     "output_type": "stream",
     "text": [
      "Saved model to nlp_id_checkpoint_2021_04_09\n"
     ]
    }
   ],
   "source": [
    "# save model \n",
    "from pathlib import Path\n",
    "\n",
    "output_dir = Path('nlp_id_checkpoint_2021_04_09')\n",
    "nlp.to_disk(output_dir)\n",
    "print(\"Saved model to\", output_dir)"
   ]
  },
  {
   "cell_type": "markdown",
   "metadata": {},
   "source": [
    "## Testing with the Clean Tweet #COVID"
   ]
  },
  {
   "cell_type": "code",
   "execution_count": 18,
   "metadata": {},
   "outputs": [
    {
     "name": "stdout",
     "output_type": "stream",
     "text": [
      "Loading from nlp_id_checkpoint_2021_04_09\n"
     ]
    }
   ],
   "source": [
    "# load existing model \n",
    "output_dir = 'nlp_id_checkpoint_2021_04_09'\n",
    "print(\"Loading from\", output_dir)\n",
    "nlp_updated = spacy.load(output_dir)"
   ]
  },
  {
   "cell_type": "code",
   "execution_count": 19,
   "metadata": {},
   "outputs": [
    {
     "name": "stdout",
     "output_type": "stream",
     "text": [
      "Entities []\n"
     ]
    }
   ],
   "source": [
    "doc = nlp_updated(\"#Pasokan kurang, negara-negara di dunia berebut vaksin melawan Covid-19 - Internasional Kontan #Covid #Covid19 https://t.co/dYYiKNIgVo.\" )\n",
    "print(\"Entities\", [(ent.text, ent.label_) for ent in doc.ents])"
   ]
  },
  {
   "cell_type": "code",
   "execution_count": 20,
   "metadata": {},
   "outputs": [
    {
     "name": "stderr",
     "output_type": "stream",
     "text": [
      "C:\\ProgramData\\Anaconda3\\lib\\site-packages\\spacy\\displacy\\__init__.py:189: UserWarning: [W006] No entities to visualize found in Doc object. If this is surprising to you, make sure the Doc was processed using a model that supports named entity recognition, and check the `doc.ents` property manually if necessary.\n",
      "  warnings.warn(Warnings.W006)\n"
     ]
    },
    {
     "data": {
      "text/html": [
       "<span class=\"tex2jax_ignore\"><div class=\"entities\" style=\"line-height: 2.5; direction: ltr\">#Pasokan kurang, negara-negara di dunia berebut vaksin melawan Covid-19 - Internasional Kontan #Covid #Covid19 https://t.co/dYYiKNIgVo.</div></span>"
      ],
      "text/plain": [
       "<IPython.core.display.HTML object>"
      ]
     },
     "metadata": {},
     "output_type": "display_data"
    }
   ],
   "source": [
    "displacy.render(doc, style=\"ent\")"
   ]
  },
  {
   "cell_type": "code",
   "execution_count": 21,
   "metadata": {
    "scrolled": true
   },
   "outputs": [
    {
     "name": "stdout",
     "output_type": "stream",
     "text": [
      "Entities [('@KawalCOVID19 Daerah', 'PERSON'), ('12.00WIB 34 Propinsi', 'QUANTITY')]\n"
     ]
    }
   ],
   "source": [
    "doc2 = nlp_updated(\"Salam santun @BNPB_Indonesia @aw3126 @KawalCOVID19 Daerah Sebaran Kasus Positif CoViD-19 Indonesia Per tgl 02 Apr 2021, pukul 12.00WIB 34 Propinsi telah terdampak penyebaran Virus CoViD-19 #coronavirus #covid-19 #coronavirusindonesia #coronaindonesia #wabahcorona #covid19\" )\n",
    "print(\"Entities\", [(ent.text, ent.label_) for ent in doc2.ents])"
   ]
  },
  {
   "cell_type": "code",
   "execution_count": 161,
   "metadata": {},
   "outputs": [],
   "source": [
    "list_hasil=[]\n",
    "for i in data_clean['tweet_clean']:\n",
    "    doc = nlp_updated(i)\n",
    "    list_hasil.append([(ent.text, ent.label_) for ent in doc.ents])"
   ]
  },
  {
   "cell_type": "code",
   "execution_count": 162,
   "metadata": {
    "scrolled": true
   },
   "outputs": [
    {
     "data": {
      "text/plain": [
       "[[],\n",
       " [],\n",
       " [],\n",
       " [],\n",
       " [],\n",
       " [],\n",
       " [],\n",
       " [],\n",
       " [],\n",
       " [('08 apr 2021', 'QUANTITY'), ('12 00wib 34 propinsi', 'QUANTITY')],\n",
       " [],\n",
       " [],\n",
       " [('7 persen', 'QUANTITY')],\n",
       " [('133 juta', 'QUANTITY'), ('20  ', 'QUANTITY')],\n",
       " [],\n",
       " [('12 00wib 34 propinsi', 'QUANTITY')],\n",
       " [('40 orang', 'QUANTITY')],\n",
       " [('2 lokasi', 'QUANTITY')],\n",
       " [],\n",
       " [],\n",
       " [],\n",
       " [],\n",
       " [],\n",
       " [],\n",
       " [],\n",
       " [('8 dunia', 'QUANTITY')],\n",
       " [('06 apr 2021', 'QUANTITY'), ('12 00wib 34 propinsi', 'QUANTITY')],\n",
       " [],\n",
       " [],\n",
       " [],\n",
       " [],\n",
       " [('170 negara', 'QUANTITY'), ('150   indonesia', 'QUANTITY')],\n",
       " [('9dr9sggnjx https', 'QUANTITY'), ('9dr9sggnjx covid', 'QUANTITY')],\n",
       " [],\n",
       " [],\n",
       " [('12 00wib 34 propinsi', 'QUANTITY')],\n",
       " [],\n",
       " [('9dr9sggnjx https', 'QUANTITY'), ('9dr9sggnjx covid', 'QUANTITY')],\n",
       " [('5 6 persen', 'QUANTITY'), ('1hfrey6upt covid', 'QUANTITY')],\n",
       " [('8 629 182 penduduk', 'QUANTITY')],\n",
       " [],\n",
       " [],\n",
       " [('04 apr 2021', 'QUANTITY'), ('12 00wib 34 propinsi', 'QUANTITY')],\n",
       " [],\n",
       " [],\n",
       " [],\n",
       " [],\n",
       " [],\n",
       " [('03 apr', 'QUANTITY'), ('12 00wib 34 propinsi', 'QUANTITY')],\n",
       " [],\n",
       " [],\n",
       " [],\n",
       " [('02 apr 2021', 'QUANTITY'), ('12 00wib 34 propinsi', 'QUANTITY')],\n",
       " [],\n",
       " [],\n",
       " [],\n",
       " [('01 apr 2021', 'QUANTITY'), ('12 00wib 34 propinsi', 'QUANTITY')],\n",
       " [],\n",
       " [],\n",
       " [],\n",
       " [],\n",
       " [],\n",
       " [],\n",
       " [('10 000  ', 'QUANTITY')],\n",
       " [],\n",
       " [],\n",
       " [],\n",
       " [],\n",
       " [],\n",
       " [('2021', 'TIME')],\n",
       " [],\n",
       " [],\n",
       " [],\n",
       " [('60 100 250  500 ml', 'QUANTITY'), ('22 70 9k ✅', 'QUANTITY')],\n",
       " [],\n",
       " [],\n",
       " [],\n",
       " [('12  ', 'QUANTITY')],\n",
       " [],\n",
       " [],\n",
       " [('1 2jt', 'QUANTITY')],\n",
       " [],\n",
       " [],\n",
       " [],\n",
       " [('40 persen', 'QUANTITY')],\n",
       " [],\n",
       " [],\n",
       " [('600 pengusaha', 'QUANTITY')],\n",
       " [],\n",
       " [],\n",
       " [('1 2 juta va', 'QUANTITY')],\n",
       " [('18 000 vial', 'QUANTITY')],\n",
       " [('100 juta', 'QUANTITY')],\n",
       " [],\n",
       " [('6c7ozumjye covid', 'QUANTITY')],\n",
       " [('40 pasien', 'QUANTITY')],\n",
       " [],\n",
       " [],\n",
       " [],\n",
       " [('100 persen', 'QUANTITY')],\n",
       " [('5 dpsp', 'QUANTITY'), ('rp 4 01 triliun', 'QUANTITY')],\n",
       " [],\n",
       " [],\n",
       " [],\n",
       " [],\n",
       " [],\n",
       " [],\n",
       " [],\n",
       " [],\n",
       " [('lbta3npvaz', 'PERSON')],\n",
       " [],\n",
       " [('5  ', 'QUANTITY')],\n",
       " [('7 april 2021', 'QUANTITY')],\n",
       " [],\n",
       " [],\n",
       " [],\n",
       " [],\n",
       " [],\n",
       " [('1 007 guru', 'QUANTITY')],\n",
       " [],\n",
       " [],\n",
       " [],\n",
       " [],\n",
       " [],\n",
       " [],\n",
       " [],\n",
       " [],\n",
       " [('e484k', 'LOCATION')],\n",
       " [('170 negara', 'QUANTITY')],\n",
       " [('21 390 penyair', 'QUANTITY'), ('77 dies', 'QUANTITY')],\n",
       " [('5 april 2021', 'TIME')],\n",
       " [],\n",
       " [],\n",
       " [('400 calon', 'QUANTITY')],\n",
       " [],\n",
       " [],\n",
       " [],\n",
       " [],\n",
       " [],\n",
       " [],\n",
       " [('2021', 'TIME'), ('2021', 'TIME')],\n",
       " [],\n",
       " [('e484k', 'LOCATION')],\n",
       " [],\n",
       " [],\n",
       " [],\n",
       " [('2    voxpopuli', 'QUANTITY')],\n",
       " [],\n",
       " [('8 juta orang', 'QUANTITY')],\n",
       " [],\n",
       " [('100 ribu   ', 'QUANTITY')],\n",
       " [('11 panduan', 'QUANTITY')],\n",
       " [('50 mobil', 'QUANTITY')],\n",
       " [],\n",
       " [],\n",
       " [],\n",
       " [],\n",
       " [],\n",
       " [('4poj5fuxqk pabrik', 'QUANTITY')],\n",
       " [],\n",
       " [],\n",
       " [],\n",
       " [],\n",
       " [('30 peratus', 'QUANTITY'), ('z6o5x0j6cz', 'ORGANIZATION')],\n",
       " [],\n",
       " [],\n",
       " [('1 349 kes', 'QUANTITY')],\n",
       " [],\n",
       " [],\n",
       " [('427 jiwa', 'QUANTITY')],\n",
       " [],\n",
       " [],\n",
       " [],\n",
       " [],\n",
       " [],\n",
       " [('66hasto pdiperjuangan', 'QUANTITY')],\n",
       " [],\n",
       " [],\n",
       " [('rp 1 triliun', 'QUANTITY')],\n",
       " [],\n",
       " [],\n",
       " [('2021', 'TIME'), ('journalistaward2021', 'ORGANIZATION')],\n",
       " [],\n",
       " [],\n",
       " [],\n",
       " [],\n",
       " [('jr2kllquln', 'LOCATION')],\n",
       " [],\n",
       " [],\n",
       " [],\n",
       " [('girls4thefuture', 'PERSON')],\n",
       " [('1 000 an orang', 'QUANTITY')],\n",
       " [('1 000 pekerja', 'QUANTITY')],\n",
       " [],\n",
       " [('1 000 kerangka', 'QUANTITY')],\n",
       " [],\n",
       " [('6c7ozumjye covid', 'QUANTITY')],\n",
       " [],\n",
       " [],\n",
       " [],\n",
       " [('960 warga', 'QUANTITY')],\n",
       " [],\n",
       " [('2021', 'TIME')],\n",
       " [('42 308 turkey', 'QUANTITY')],\n",
       " [],\n",
       " [],\n",
       " [],\n",
       " [('18 kecamatan', 'QUANTITY')],\n",
       " [('2 april 2021', 'QUANTITY')],\n",
       " [],\n",
       " [],\n",
       " [('26 624 guru', 'QUANTITY')],\n",
       " [],\n",
       " [('5 ribu', 'QUANTITY')],\n",
       " [],\n",
       " [],\n",
       " []]"
      ]
     },
     "execution_count": 162,
     "metadata": {},
     "output_type": "execute_result"
    }
   ],
   "source": [
    "list_hasil"
   ]
  },
  {
   "cell_type": "code",
   "execution_count": 163,
   "metadata": {},
   "outputs": [],
   "source": [
    "options = {'ents': ['QUANTITY', 'PERSON', 'LOCATION', 'TIME']}"
   ]
  },
  {
   "cell_type": "code",
   "execution_count": 164,
   "metadata": {},
   "outputs": [
    {
     "data": {
      "text/html": [
       "<span class=\"tex2jax_ignore\"><div class=\"entities\" style=\"line-height: 2.5; direction: ltr\">Salam santun @BNPB_Indonesia @aw3126 \n",
       "<mark class=\"entity\" style=\"background: #aa9cfc; padding: 0.45em 0.6em; margin: 0 0.25em; line-height: 1; border-radius: 0.35em;\">\n",
       "    @KawalCOVID19 Daerah\n",
       "    <span style=\"font-size: 0.8em; font-weight: bold; line-height: 1; border-radius: 0.35em; text-transform: uppercase; vertical-align: middle; margin-left: 0.5rem\">PERSON</span>\n",
       "</mark>\n",
       " Sebaran Kasus Positif CoViD-19 Indonesia Per tgl 02 Apr 2021, pukul \n",
       "<mark class=\"entity\" style=\"background: #e4e7d2; padding: 0.45em 0.6em; margin: 0 0.25em; line-height: 1; border-radius: 0.35em;\">\n",
       "    12.00WIB 34 Propinsi\n",
       "    <span style=\"font-size: 0.8em; font-weight: bold; line-height: 1; border-radius: 0.35em; text-transform: uppercase; vertical-align: middle; margin-left: 0.5rem\">QUANTITY</span>\n",
       "</mark>\n",
       " telah terdampak penyebaran Virus CoViD-19 #coronavirus #covid-19 #coronavirusindonesia #coronaindonesia #wabahcorona #covid19</div></span>"
      ],
      "text/plain": [
       "<IPython.core.display.HTML object>"
      ]
     },
     "metadata": {},
     "output_type": "display_data"
    }
   ],
   "source": [
    "displacy.render(doc2, style=\"ent\", options = options)"
   ]
  },
  {
   "cell_type": "markdown",
   "metadata": {},
   "source": [
    "__Performance Model__"
   ]
  },
  {
   "cell_type": "code",
   "execution_count": 140,
   "metadata": {},
   "outputs": [],
   "source": [
    "from spacy.gold import biluo_tags_from_offsets\n",
    "\n",
    "\n",
    "def get_cleaned_label(label: str):\n",
    "    if \"-\" in label:\n",
    "        return label.split(\"-\")[1]\n",
    "    else:\n",
    "        return label\n",
    "\n",
    "    \n",
    "def create_target_vector(doc):\n",
    "    return [get_cleaned_label(label[2]) for label in doc[1][\"entities\"]]\n",
    "\n",
    "\n",
    "def create_total_target_vector(docs):\n",
    "    target_vector = []\n",
    "    for doc in docs:\n",
    "        target_vector.extend(create_target_vector(doc))\n",
    "    return target_vector\n",
    "\n",
    "\n",
    "def create_prediction_vector(text):\n",
    "    return [get_cleaned_label(prediction) for prediction in get_all_ner_predictions(text)]\n",
    "\n",
    "    \n",
    "def create_total_prediction_vector(docs: list):\n",
    "    prediction_vector = []\n",
    "    for doc in docs:\n",
    "        prediction_vector.extend(create_prediction_vector(doc[0]))\n",
    "    return prediction_vector\n",
    "\n",
    "def get_all_ner_predictions(text):\n",
    "    doc = nlp_updated(text)\n",
    "    entities = [(e.start_char, e.end_char, e.label_) for e in doc.ents]\n",
    "    bilou_entities = biluo_tags_from_offsets(doc, entities)\n",
    "    return bilou_entities"
   ]
  },
  {
   "cell_type": "code",
   "execution_count": 150,
   "metadata": {},
   "outputs": [],
   "source": [
    "docs=list_hasil"
   ]
  },
  {
   "cell_type": "code",
   "execution_count": 151,
   "metadata": {},
   "outputs": [
    {
     "ename": "IndexError",
     "evalue": "list index out of range",
     "output_type": "error",
     "traceback": [
      "\u001b[1;31m---------------------------------------------------------------------------\u001b[0m",
      "\u001b[1;31mIndexError\u001b[0m                                Traceback (most recent call last)",
      "\u001b[1;32m<ipython-input-151-9305af6e8c5c>\u001b[0m in \u001b[0;36m<module>\u001b[1;34m\u001b[0m\n\u001b[1;32m----> 1\u001b[1;33m \u001b[0mcreate_total_target_vector\u001b[0m\u001b[1;33m(\u001b[0m\u001b[0mdocs\u001b[0m\u001b[1;33m)\u001b[0m\u001b[1;33m\u001b[0m\u001b[1;33m\u001b[0m\u001b[0m\n\u001b[0m",
      "\u001b[1;32m<ipython-input-140-0f449b0d4316>\u001b[0m in \u001b[0;36mcreate_total_target_vector\u001b[1;34m(docs)\u001b[0m\n\u001b[0;32m     16\u001b[0m     \u001b[0mtarget_vector\u001b[0m \u001b[1;33m=\u001b[0m \u001b[1;33m[\u001b[0m\u001b[1;33m]\u001b[0m\u001b[1;33m\u001b[0m\u001b[1;33m\u001b[0m\u001b[0m\n\u001b[0;32m     17\u001b[0m     \u001b[1;32mfor\u001b[0m \u001b[0mdoc\u001b[0m \u001b[1;32min\u001b[0m \u001b[0mdocs\u001b[0m\u001b[1;33m:\u001b[0m\u001b[1;33m\u001b[0m\u001b[1;33m\u001b[0m\u001b[0m\n\u001b[1;32m---> 18\u001b[1;33m         \u001b[0mtarget_vector\u001b[0m\u001b[1;33m.\u001b[0m\u001b[0mextend\u001b[0m\u001b[1;33m(\u001b[0m\u001b[0mcreate_target_vector\u001b[0m\u001b[1;33m(\u001b[0m\u001b[0mdoc\u001b[0m\u001b[1;33m)\u001b[0m\u001b[1;33m)\u001b[0m\u001b[1;33m\u001b[0m\u001b[1;33m\u001b[0m\u001b[0m\n\u001b[0m\u001b[0;32m     19\u001b[0m     \u001b[1;32mreturn\u001b[0m \u001b[0mtarget_vector\u001b[0m\u001b[1;33m\u001b[0m\u001b[1;33m\u001b[0m\u001b[0m\n\u001b[0;32m     20\u001b[0m \u001b[1;33m\u001b[0m\u001b[0m\n",
      "\u001b[1;32m<ipython-input-140-0f449b0d4316>\u001b[0m in \u001b[0;36mcreate_target_vector\u001b[1;34m(doc)\u001b[0m\n\u001b[0;32m     10\u001b[0m \u001b[1;33m\u001b[0m\u001b[0m\n\u001b[0;32m     11\u001b[0m \u001b[1;32mdef\u001b[0m \u001b[0mcreate_target_vector\u001b[0m\u001b[1;33m(\u001b[0m\u001b[0mdoc\u001b[0m\u001b[1;33m)\u001b[0m\u001b[1;33m:\u001b[0m\u001b[1;33m\u001b[0m\u001b[1;33m\u001b[0m\u001b[0m\n\u001b[1;32m---> 12\u001b[1;33m     \u001b[1;32mreturn\u001b[0m \u001b[1;33m[\u001b[0m\u001b[0mget_cleaned_label\u001b[0m\u001b[1;33m(\u001b[0m\u001b[0mlabel\u001b[0m\u001b[1;33m[\u001b[0m\u001b[1;36m2\u001b[0m\u001b[1;33m]\u001b[0m\u001b[1;33m)\u001b[0m \u001b[1;32mfor\u001b[0m \u001b[0mlabel\u001b[0m \u001b[1;32min\u001b[0m \u001b[0mdoc\u001b[0m\u001b[1;33m[\u001b[0m\u001b[1;36m1\u001b[0m\u001b[1;33m]\u001b[0m\u001b[1;33m[\u001b[0m\u001b[1;34m\"entities\"\u001b[0m\u001b[1;33m]\u001b[0m\u001b[1;33m]\u001b[0m\u001b[1;33m\u001b[0m\u001b[1;33m\u001b[0m\u001b[0m\n\u001b[0m\u001b[0;32m     13\u001b[0m \u001b[1;33m\u001b[0m\u001b[0m\n\u001b[0;32m     14\u001b[0m \u001b[1;33m\u001b[0m\u001b[0m\n",
      "\u001b[1;31mIndexError\u001b[0m: list index out of range"
     ]
    }
   ],
   "source": [
    "create_total_target_vector(docs)"
   ]
  },
  {
   "cell_type": "code",
   "execution_count": 143,
   "metadata": {},
   "outputs": [
    {
     "data": {
      "text/plain": [
       "['O',\n",
       " 'O',\n",
       " 'O',\n",
       " 'O',\n",
       " 'O',\n",
       " 'O',\n",
       " 'O',\n",
       " 'O',\n",
       " 'O',\n",
       " 'O',\n",
       " 'O',\n",
       " 'O',\n",
       " 'O',\n",
       " 'O',\n",
       " 'O',\n",
       " 'O',\n",
       " 'O',\n",
       " 'O',\n",
       " 'O',\n",
       " 'O',\n",
       " 'O',\n",
       " 'PERSON',\n",
       " 'PERSON',\n",
       " 'O']"
      ]
     },
     "execution_count": 143,
     "metadata": {},
     "output_type": "execute_result"
    }
   ],
   "source": [
    "create_total_prediction_vector(docs)"
   ]
  },
  {
   "cell_type": "code",
   "execution_count": 144,
   "metadata": {},
   "outputs": [],
   "source": [
    "def get_model_labels():\n",
    "    labels = list(nlp.get_pipe(\"ner\").labels)\n",
    "    labels.append(\"O\")\n",
    "    return sorted(labels)\n"
   ]
  },
  {
   "cell_type": "code",
   "execution_count": 145,
   "metadata": {},
   "outputs": [],
   "source": [
    "def get_dataset_labels():\n",
    "    return sorted(set(create_total_target_vector(docs)))"
   ]
  },
  {
   "cell_type": "code",
   "execution_count": 146,
   "metadata": {},
   "outputs": [],
   "source": [
    "from sklearn.metrics import confusion_matrix\n",
    "\n",
    "def generate_confusion_matrix(docs): \n",
    "    classes = sorted(set(create_total_target_vector(docs)))\n",
    "    y_true = create_total_target_vector(docs)\n",
    "    y_pred = create_total_prediction_vector(docs)\n",
    "\n",
    "    return confusion_matrix(y_true, y_pred, classes)"
   ]
  },
  {
   "cell_type": "code",
   "execution_count": 147,
   "metadata": {},
   "outputs": [
    {
     "name": "stderr",
     "output_type": "stream",
     "text": [
      "C:\\Users\\Anisa Gemelia\\AppData\\Roaming\\Python\\Python37\\site-packages\\sklearn\\utils\\validation.py:70: FutureWarning: Pass labels=['Attraction', 'Country', 'O'] as keyword args. From version 0.25 passing these as positional arguments will result in an error\n",
      "  FutureWarning)\n"
     ]
    },
    {
     "data": {
      "text/plain": [
       "array([[ 0,  0,  4],\n",
       "       [ 0,  0,  0],\n",
       "       [ 0,  0, 18]], dtype=int64)"
      ]
     },
     "execution_count": 147,
     "metadata": {},
     "output_type": "execute_result"
    }
   ],
   "source": [
    "generate_confusion_matrix(docs)"
   ]
  },
  {
   "cell_type": "markdown",
   "metadata": {},
   "source": [
    "### Convert to Output Ner"
   ]
  },
  {
   "cell_type": "code",
   "execution_count": 165,
   "metadata": {
    "scrolled": true
   },
   "outputs": [],
   "source": [
    "list_hasil_df = pd.DataFrame(list_hasil)\n",
    "list_hasil_df.to_csv('output_ner.csv')"
   ]
  },
  {
   "cell_type": "markdown",
   "metadata": {},
   "source": [
    "__Only Processed Text__"
   ]
  },
  {
   "cell_type": "code",
   "execution_count": 29,
   "metadata": {
    "scrolled": true
   },
   "outputs": [
    {
     "data": {
      "text/plain": [
       "'0 akibat dari semakin berkembangnya teknologi sa... 1 sobat jak semoga kita semua bisa segera mendap... 2 cerita pejuang tes covid sulitnya cari pcr mu... 3 kita sebagai guru harus bisa mengetahui karakt... 4 waspada virus covid kembali bermutasi kali ini... ... 212 manut aturan pusat gibran larang asn solo mudi... 213 5 ribu pegawai kai ikuti program vaksinasi ber... 214 surge in delhi covid cases due to cm arvind k... 215 proses belajar tatap muka rencananya akan kemb... 216 menkes ramal bisnis obat obatan bakal makin mo... Name: tweet_clean, Length: 217, dtype: object'"
      ]
     },
     "execution_count": 29,
     "metadata": {},
     "output_type": "execute_result"
    }
   ],
   "source": [
    "#cleaned no mention and url\n",
    "processed_text"
   ]
  },
  {
   "cell_type": "code",
   "execution_count": 30,
   "metadata": {},
   "outputs": [],
   "source": [
    "doc = nlp_updated(processed_text)"
   ]
  },
  {
   "cell_type": "code",
   "execution_count": 31,
   "metadata": {
    "scrolled": true
   },
   "outputs": [
    {
     "data": {
      "text/html": [
       "<span class=\"tex2jax_ignore\"><div class=\"entities\" style=\"line-height: 2.5; direction: ltr\">0 akibat dari semakin berkembangnya teknologi sa... 1 sobat jak semoga kita semua bisa segera mendap... 2 cerita pejuang tes covid sulitnya cari pcr mu... 3 kita sebagai guru harus bisa mengetahui karakt... 4 waspada virus covid kembali bermutasi kali ini... ... \n",
       "<mark class=\"entity\" style=\"background: #e4e7d2; padding: 0.45em 0.6em; margin: 0 0.25em; line-height: 1; border-radius: 0.35em;\">\n",
       "    212 manut\n",
       "    <span style=\"font-size: 0.8em; font-weight: bold; line-height: 1; border-radius: 0.35em; text-transform: uppercase; vertical-align: middle; margin-left: 0.5rem\">QUANTITY</span>\n",
       "</mark>\n",
       " aturan pusat gibran larang asn solo mudi... \n",
       "<mark class=\"entity\" style=\"background: #e4e7d2; padding: 0.45em 0.6em; margin: 0 0.25em; line-height: 1; border-radius: 0.35em;\">\n",
       "    213 5 ribu\n",
       "    <span style=\"font-size: 0.8em; font-weight: bold; line-height: 1; border-radius: 0.35em; text-transform: uppercase; vertical-align: middle; margin-left: 0.5rem\">QUANTITY</span>\n",
       "</mark>\n",
       " pegawai kai ikuti program vaksinasi ber... \n",
       "<mark class=\"entity\" style=\"background: #e4e7d2; padding: 0.45em 0.6em; margin: 0 0.25em; line-height: 1; border-radius: 0.35em;\">\n",
       "    214 surge\n",
       "    <span style=\"font-size: 0.8em; font-weight: bold; line-height: 1; border-radius: 0.35em; text-transform: uppercase; vertical-align: middle; margin-left: 0.5rem\">QUANTITY</span>\n",
       "</mark>\n",
       " in delhi covid cases due to cm arvind k... \n",
       "<mark class=\"entity\" style=\"background: #e4e7d2; padding: 0.45em 0.6em; margin: 0 0.25em; line-height: 1; border-radius: 0.35em;\">\n",
       "    215 proses\n",
       "    <span style=\"font-size: 0.8em; font-weight: bold; line-height: 1; border-radius: 0.35em; text-transform: uppercase; vertical-align: middle; margin-left: 0.5rem\">QUANTITY</span>\n",
       "</mark>\n",
       " belajar tatap muka rencananya akan kemb... 216 menkes ramal bisnis obat obatan bakal makin mo... Name: tweet_clean, Length: 217, dtype: object</div></span>"
      ],
      "text/plain": [
       "<IPython.core.display.HTML object>"
      ]
     },
     "metadata": {},
     "output_type": "display_data"
    }
   ],
   "source": [
    "displacy.render(doc, style=\"ent\", options = options)"
   ]
  },
  {
   "cell_type": "code",
   "execution_count": 28,
   "metadata": {
    "scrolled": true
   },
   "outputs": [],
   "source": [
    "#displacy.serve(doc, style='ent', options=options)"
   ]
  },
  {
   "cell_type": "code",
   "execution_count": null,
   "metadata": {},
   "outputs": [],
   "source": []
  }
 ],
 "metadata": {
  "kernelspec": {
   "display_name": "Python 3",
   "language": "python",
   "name": "python3"
  },
  "language_info": {
   "codemirror_mode": {
    "name": "ipython",
    "version": 3
   },
   "file_extension": ".py",
   "mimetype": "text/x-python",
   "name": "python",
   "nbconvert_exporter": "python",
   "pygments_lexer": "ipython3",
   "version": "3.7.4"
  }
 },
 "nbformat": 4,
 "nbformat_minor": 2
}
